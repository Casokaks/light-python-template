{
 "cells": [
  {
   "cell_type": "markdown",
   "id": "5a036167",
   "metadata": {},
   "source": [
    "# Notebook to test the correct installation of the package"
   ]
  },
  {
   "cell_type": "code",
   "execution_count": null,
   "id": "586d13e2",
   "metadata": {},
   "outputs": [],
   "source": [
    "import pandas"
   ]
  },
  {
   "cell_type": "code",
   "execution_count": null,
   "id": "4b4ed511",
   "metadata": {},
   "outputs": [],
   "source": [
    "import projectname"
   ]
  },
  {
   "cell_type": "code",
   "execution_count": null,
   "id": "8466b960",
   "metadata": {},
   "outputs": [],
   "source": [
    "from projectname import *"
   ]
  }
 ],
 "metadata": {
  "environment": {
   "name": "common-cpu.m76",
   "type": "gcloud",
   "uri": "gcr.io/deeplearning-platform-release/base-cpu:m76"
  },
  "kernelspec": {
   "display_name": "Python 3",
   "language": "python",
   "name": "python3"
  },
  "language_info": {
   "codemirror_mode": {
    "name": "ipython",
    "version": 3
   },
   "file_extension": ".py",
   "mimetype": "text/x-python",
   "name": "python",
   "nbconvert_exporter": "python",
   "pygments_lexer": "ipython3",
   "version": "3.7.10"
  }
 },
 "nbformat": 4,
 "nbformat_minor": 5
}
