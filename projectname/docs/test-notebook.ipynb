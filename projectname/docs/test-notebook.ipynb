{
 "cells": [
  {
   "cell_type": "markdown",
   "id": "e7f14505",
   "metadata": {},
   "source": [
    "# Notebook to test the correct installation of the package"
   ]
  },
  {
   "cell_type": "code",
   "execution_count": 1,
   "id": "0e409d3d",
   "metadata": {},
   "outputs": [],
   "source": [
    "import pandas"
   ]
  },
  {
   "cell_type": "code",
   "execution_count": 2,
   "id": "6a0016c2",
   "metadata": {},
   "outputs": [],
   "source": [
    "import projectname\n",
    "projectname.placeholder(x='Hi')"
   ]
  },
  {
   "cell_type": "code",
   "execution_count": 3,
   "id": "500c0f54",
   "metadata": {},
   "outputs": [],
   "source": [
    "from projectname import *\n",
    "placeholder(x='Hi there!')"
   ]
  },
  {
   "cell_type": "code",
   "execution_count": 8,
   "id": "7d5d5d3c",
   "metadata": {},
   "outputs": [
    {
     "data": {
      "text/plain": [
       "'projectname'"
      ]
     },
     "execution_count": 8,
     "metadata": {},
     "output_type": "execute_result"
    }
   ],
   "source": [
    "projectname.__package__"
   ]
  },
  {
   "cell_type": "code",
   "execution_count": null,
   "id": "6955af08",
   "metadata": {},
   "outputs": [],
   "source": [
    "projectname.__name__"
   ]
  },
  {
   "cell_type": "code",
   "execution_count": 9,
   "id": "62491b42",
   "metadata": {},
   "outputs": [
    {
     "data": {
      "text/plain": [
       "'/opt/conda/lib/python3.7/site-packages/projectname/__init__.py'"
      ]
     },
     "execution_count": 9,
     "metadata": {},
     "output_type": "execute_result"
    }
   ],
   "source": [
    "projectname.__path__"
   ]
  }
 ],
 "metadata": {
  "environment": {
   "name": "common-cpu.m76",
   "type": "gcloud",
   "uri": "gcr.io/deeplearning-platform-release/base-cpu:m76"
  },
  "kernelspec": {
   "display_name": "Python 3",
   "language": "python",
   "name": "python3"
  },
  "language_info": {
   "codemirror_mode": {
    "name": "ipython",
    "version": 3
   },
   "file_extension": ".py",
   "mimetype": "text/x-python",
   "name": "python",
   "nbconvert_exporter": "python",
   "pygments_lexer": "ipython3",
   "version": "3.7.10"
  }
 },
 "nbformat": 4,
 "nbformat_minor": 5
}
